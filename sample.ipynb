{
 "cells": [
  {
   "cell_type": "code",
   "execution_count": null,
   "metadata": {},
   "outputs": [],
   "source": [
    "import torch\n",
    "from diffusers import DiffusionPipeline, LCMScheduler\n",
    "import peft"
   ]
  },
  {
   "cell_type": "code",
   "execution_count": null,
   "metadata": {},
   "outputs": [],
   "source": [
    "pipe = DiffusionPipeline.from_pretrained(\"runwayml/stable-diffusion-v1-5\", safety_checker = None)\n",
    "pipe.scheduler = LCMScheduler.from_config(pipe.scheduler.config)"
   ]
  },
  {
   "cell_type": "code",
   "execution_count": null,
   "metadata": {},
   "outputs": [],
   "source": [
    "#pipe.load_lora_weights(\"latent-consistency/lcm-lora-sdv1-5\")"
   ]
  },
  {
   "cell_type": "code",
   "execution_count": null,
   "metadata": {},
   "outputs": [],
   "source": [
    "lora_target_modules = [\n",
    "        \"to_q\",\n",
    "        \"to_k\",\n",
    "        \"to_v\",\n",
    "        \"to_out.0\",\n",
    "        \"proj_in\",\n",
    "        \"proj_out\",\n",
    "        \"ff.net.0.proj\",\n",
    "        \"ff.net.2\",\n",
    "        \"conv1\",\n",
    "        \"conv2\",\n",
    "        \"conv_shortcut\",\n",
    "        \"downsamplers.0.conv\",\n",
    "        \"upsamplers.0.conv\",\n",
    "        \"time_emb_proj\",\n",
    "    ]\n",
    "lora_config = peft.LoraConfig(\n",
    "    r=64,\n",
    "    target_modules=lora_target_modules,\n",
    "    lora_alpha=64,\n",
    "    lora_dropout=0.0,\n",
    ")\n",
    "\n",
    "unet_ = peft.get_peft_model(pipe.unet, lora_config)\n",
    "unet_.load_adapter(\"./output/cubiCP50k\", \"default\")\n",
    "\n",
    "pipe.unet = unet_"
   ]
  },
  {
   "cell_type": "code",
   "execution_count": null,
   "metadata": {},
   "outputs": [],
   "source": [
    "prompt = \"architectural drawing : floor plan of a two bedroom apartment\"\n",
    "num_inference_steps = 8\n",
    "guidance_scale = 4.0\n",
    "\n",
    "images = []\n",
    "for i in range(100) :\n",
    "    img = pipe(prompt=prompt, num_inference_steps=num_inference_steps, guidance_scale=guidance_scale, output_type=\"pil\").images[0]\n",
    "    img.save(f\"./output/images/img_{i}.png\")\n",
    "    images.append(img)"
   ]
  }
 ],
 "metadata": {
  "kernelspec": {
   "display_name": "Python 3",
   "language": "python",
   "name": "python3"
  },
  "language_info": {
   "codemirror_mode": {
    "name": "ipython",
    "version": 3
   },
   "file_extension": ".py",
   "mimetype": "text/x-python",
   "name": "python",
   "nbconvert_exporter": "python",
   "pygments_lexer": "ipython3",
   "version": "3.10.12"
  }
 },
 "nbformat": 4,
 "nbformat_minor": 2
}
