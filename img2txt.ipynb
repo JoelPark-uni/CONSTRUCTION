{
 "cells": [
  {
   "cell_type": "markdown",
   "metadata": {},
   "source": [
    "### Image-to-Text Generator for CubiCasa5k Dataset"
   ]
  },
  {
   "cell_type": "code",
   "execution_count": 2,
   "metadata": {},
   "outputs": [
    {
     "data": {
      "application/vnd.jupyter.widget-view+json": {
       "model_id": "2bee61288d28437ea6bc8185500860ee",
       "version_major": 2,
       "version_minor": 0
      },
      "text/plain": [
       "  0%|          | 0/4597 [00:00<?, ?it/s]"
      ]
     },
     "metadata": {},
     "output_type": "display_data"
    },
    {
     "name": "stderr",
     "output_type": "stream",
     "text": [
      "/usr/local/lib/python3.10/dist-packages/PIL/Image.py:3186: DecompressionBombWarning: Image size (90344064 pixels) exceeds limit of 89478485 pixels, could be decompression bomb DOS attack.\n",
      "  warnings.warn(\n"
     ]
    }
   ],
   "source": [
    "import os\n",
    "import torch\n",
    "import requests\n",
    "from PIL import Image\n",
    "from transformers import BlipProcessor, BlipForConditionalGeneration\n",
    "from tqdm.auto import tqdm\n",
    "\n",
    "processor = BlipProcessor.from_pretrained(\"Salesforce/blip-image-captioning-base\")\n",
    "model = BlipForConditionalGeneration.from_pretrained(\"Salesforce/blip-image-captioning-base\", torch_dtype=torch.float16).to(\"cuda\")\n",
    "\n",
    "path = '/workspace/CONSTRUCTION/CubiCasa5k/data/custom/'\n",
    "\n",
    "imgs = os.listdir(path)\n",
    "for img in tqdm(imgs) :\n",
    "    raw_image = Image.open(path+img).convert('RGB')\n",
    "\n",
    "    # conditional image captioning\n",
    "    text = \"Architectural Drawing : floor plan of\"\n",
    "    inputs = processor(raw_image, text, return_tensors=\"pt\").to(\"cuda\", torch.float16)\n",
    "\n",
    "    out = model.generate(**inputs)\n",
    "    # print(processor.decode(out[0], skip_special_tokens=True))\n",
    "    # >>> a photography of a woman and her dog\n",
    "    filename = os.path.splitext(os.path.join(path, img))[0] + '.txt'\n",
    "    with open(filename, 'w') as f :\n",
    "        f.write(processor.decode(out[0], skip_special_tokens=True))\n"
   ]
  }
 ],
 "metadata": {
  "kernelspec": {
   "display_name": "Python 3",
   "language": "python",
   "name": "python3"
  },
  "language_info": {
   "codemirror_mode": {
    "name": "ipython",
    "version": 3
   },
   "file_extension": ".py",
   "mimetype": "text/x-python",
   "name": "python",
   "nbconvert_exporter": "python",
   "pygments_lexer": "ipython3",
   "version": "3.10.12"
  }
 },
 "nbformat": 4,
 "nbformat_minor": 2
}
